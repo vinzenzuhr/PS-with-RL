{
 "cells": [
  {
   "cell_type": "code",
   "execution_count": 1,
   "id": "600e7dfa-0283-46dc-92fb-f3f4c36fff43",
   "metadata": {
    "scrolled": true
   },
   "outputs": [
    {
     "name": "stderr",
     "output_type": "stream",
     "text": [
      "\n",
      "KeyboardInterrupt\n",
      "\n"
     ]
    }
   ],
   "source": [
    "from dataclasses import dataclass\n",
    "import os\n",
    "\n",
    "import torch \n",
    "from torch.utils.tensorboard import SummaryWriter\n",
    "\n",
    "from custom_modules import Training, DataGenerator, GNN"
   ]
  },
  {
   "cell_type": "code",
   "execution_count": null,
   "id": "0d4338b3-e039-4a95-a15e-e4828e237fef",
   "metadata": {},
   "outputs": [],
   "source": [
    "@dataclass\n",
    "class TrainingConfig:\n",
    "    output_dir = \"RL_PersSched\"\n",
    "    num_epoch = 1000000 #10'000 needs 1 hour with 3x CPU, 3GB RAM and 1x 1080ti\n",
    "    max_steps = 8\n",
    "    batch_size = 1280\n",
    "    replay_size = 1280\n",
    "    device = torch.device(\"cuda\" if torch.cuda.is_available() else \"cpu\")\n",
    "    eval_every_n_epochs = 2000\n",
    "    lr = 1e-3\n",
    "    gamma = 0.99\n",
    "    hidden_dim = 32\n",
    "    num_message_layer = 2\n",
    "    clip_norm = 1\n",
    "\n",
    "config = TrainingConfig()"
   ]
  },
  {
   "cell_type": "markdown",
   "id": "2cd5a1ff-2334-4015-af1e-fc20e3770734",
   "metadata": {},
   "source": [
    "## Training"
   ]
  },
  {
   "cell_type": "code",
   "execution_count": null,
   "id": "34866725-a019-416a-88c7-2146df8b8ab8",
   "metadata": {},
   "outputs": [],
   "source": [
    "tb_summary = SummaryWriter(config.output_dir, purge_step=0)\n",
    "os.makedirs(config.output_dir, exist_ok=True)"
   ]
  },
  {
   "cell_type": "code",
   "execution_count": null,
   "id": "5a2c7477-436d-4954-a4e9-e32a27dfa6da",
   "metadata": {},
   "outputs": [],
   "source": [
    "dim_employee = 1\n",
    "dim_shift = 7\n",
    "gnn = GNN((dim_employee, dim_shift), hidden_dim=config.hidden_dim, num_message_layer=config.num_message_layer, device=config.device)"
   ]
  },
  {
   "cell_type": "code",
   "execution_count": null,
   "id": "0ca3d151-b5ca-4742-bd82-e3a73a73f379",
   "metadata": {},
   "outputs": [],
   "source": [
    "optimizer = torch.optim.AdamW(\n",
    "    gnn.parameters(), \n",
    "    lr=config.lr, \n",
    "    amsgrad=True\n",
    "    ) "
   ]
  },
  {
   "cell_type": "code",
   "execution_count": null,
   "id": "c18de9db-63af-46f4-9be0-befea097320e",
   "metadata": {},
   "outputs": [],
   "source": [
    "tb_summary.add_scalar(\"num_parameters\", len(gnn.parameters()), 0)\n",
    "tb_summary.add_scalar(\"num_epoch\", config.num_epoch, 0)\n",
    "tb_summary.add_scalar(\"max_steps\", config.max_steps, 0)\n",
    "tb_summary.add_scalar(\"batch_size\", config.batch_size, 0)\n",
    "tb_summary.add_scalar(\"replay_size\", config.replay_size, 0)\n",
    "tb_summary.add_scalar(\"eval_every_n_epochs\", config.eval_every_n_epochs, 0)\n",
    "tb_summary.add_scalar(\"lr\", config.lr, 0)\n",
    "tb_summary.add_scalar(\"gamma\", config.gamma, 0)\n",
    "tb_summary.add_scalar(\"hidden_dim\", config.hidden_dim, 0)\n",
    "tb_summary.add_scalar(\"num_message_passing\", config.num_message_layer, 0)\n",
    "tb_summary.add_scalar(\"clip_norm\", config.clip_norm, 0)\n",
    "tb_summary.add_scalar(\"num_shifts\", DataGenerator.get_week_shifts().shape[0], 0)"
   ]
  },
  {
   "cell_type": "code",
   "execution_count": null,
   "id": "03972eab-f5f3-4e86-b277-0635e330b13f",
   "metadata": {},
   "outputs": [],
   "source": [
    "training = Training(\n",
    "    gnn, \n",
    "    optimizer, \n",
    "    tb_summary, \n",
    "    device=config.device,  \n",
    "    gamma=config.gamma,\n",
    "    max_steps=config.max_steps, \n",
    "    num_epoch=config.num_epoch, \n",
    "    batch_size=config.batch_size, \n",
    "    replay_size=config.replay_size, \n",
    "    eval_every_n_epochs=config.eval_every_n_epochs,\n",
    "    output_dir=config.output_dir,\n",
    "    clip_norm=config.clip_norm\n",
    ") \n",
    "training.start_training()"
   ]
  },
  {
   "cell_type": "markdown",
   "id": "fbef0127-26f7-4177-9d57-854b71a1b2da",
   "metadata": {},
   "source": [
    "## Save as python script"
   ]
  },
  {
   "cell_type": "code",
   "execution_count": null,
   "id": "211f4f10-9fd8-43c6-aff2-6a98a473affb",
   "metadata": {},
   "outputs": [],
   "source": [
    "import os\n",
    "\n",
    "!jupyter nbconvert --to script \"RL_env.ipynb\"\n",
    "filename = \"RL_env.py\"\n",
    "\n",
    "# delete this cell from python file\n",
    "lines = []\n",
    "with open(filename, 'r') as fp:\n",
    "    lines = fp.readlines()\n",
    "with open(filename, 'w') as fp:\n",
    "    for number, line in enumerate(lines):\n",
    "        if number < len(lines)-17: \n",
    "            fp.write(line)"
   ]
  }
 ],
 "metadata": {
  "kernelspec": {
   "display_name": "Python 3 (ipykernel)",
   "language": "python",
   "name": "python3"
  },
  "language_info": {
   "codemirror_mode": {
    "name": "ipython",
    "version": 3
   },
   "file_extension": ".py",
   "mimetype": "text/x-python",
   "name": "python",
   "nbconvert_exporter": "python",
   "pygments_lexer": "ipython3",
   "version": "3.11.6"
  }
 },
 "nbformat": 4,
 "nbformat_minor": 5
}
