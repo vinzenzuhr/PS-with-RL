{
 "cells": [
  {
   "cell_type": "code",
   "execution_count": 82,
   "id": "b54418ad-b423-494c-907e-00dfa00a6011",
   "metadata": {},
   "outputs": [
    {
     "name": "stdout",
     "output_type": "stream",
     "text": [
      "Requirement already satisfied: gymnasium in /opt/conda/lib/python3.11/site-packages (0.29.1)\n",
      "Requirement already satisfied: torch_geometric in /opt/conda/lib/python3.11/site-packages (2.5.3)\n",
      "Requirement already satisfied: networkx in /opt/conda/lib/python3.11/site-packages (3.2)\n",
      "Requirement already satisfied: numpy>=1.21.0 in /opt/conda/lib/python3.11/site-packages (from gymnasium) (1.24.4)\n",
      "Requirement already satisfied: cloudpickle>=1.2.0 in /opt/conda/lib/python3.11/site-packages (from gymnasium) (3.0.0)\n",
      "Requirement already satisfied: typing-extensions>=4.3.0 in /opt/conda/lib/python3.11/site-packages (from gymnasium) (4.8.0)\n",
      "Requirement already satisfied: farama-notifications>=0.0.1 in /opt/conda/lib/python3.11/site-packages (from gymnasium) (0.0.4)\n",
      "Requirement already satisfied: tqdm in /opt/conda/lib/python3.11/site-packages (from torch_geometric) (4.66.5)\n",
      "Requirement already satisfied: scipy in /opt/conda/lib/python3.11/site-packages (from torch_geometric) (1.11.3)\n",
      "Requirement already satisfied: fsspec in /opt/conda/lib/python3.11/site-packages (from torch_geometric) (2023.9.2)\n",
      "Requirement already satisfied: jinja2 in /opt/conda/lib/python3.11/site-packages (from torch_geometric) (3.1.2)\n",
      "Requirement already satisfied: aiohttp in /opt/conda/lib/python3.11/site-packages (from torch_geometric) (3.10.3)\n",
      "Requirement already satisfied: requests in /opt/conda/lib/python3.11/site-packages (from torch_geometric) (2.32.3)\n",
      "Requirement already satisfied: pyparsing in /opt/conda/lib/python3.11/site-packages (from torch_geometric) (3.1.1)\n",
      "Requirement already satisfied: scikit-learn in /opt/conda/lib/python3.11/site-packages (from torch_geometric) (1.3.1)\n",
      "Requirement already satisfied: psutil>=5.8.0 in /opt/conda/lib/python3.11/site-packages (from torch_geometric) (5.9.5)\n",
      "Requirement already satisfied: aiohappyeyeballs>=2.3.0 in /opt/conda/lib/python3.11/site-packages (from aiohttp->torch_geometric) (2.3.5)\n",
      "Requirement already satisfied: aiosignal>=1.1.2 in /opt/conda/lib/python3.11/site-packages (from aiohttp->torch_geometric) (1.3.1)\n",
      "Requirement already satisfied: attrs>=17.3.0 in /opt/conda/lib/python3.11/site-packages (from aiohttp->torch_geometric) (23.1.0)\n",
      "Requirement already satisfied: frozenlist>=1.1.1 in /opt/conda/lib/python3.11/site-packages (from aiohttp->torch_geometric) (1.4.1)\n",
      "Requirement already satisfied: multidict<7.0,>=4.5 in /opt/conda/lib/python3.11/site-packages (from aiohttp->torch_geometric) (6.0.5)\n",
      "Requirement already satisfied: yarl<2.0,>=1.0 in /opt/conda/lib/python3.11/site-packages (from aiohttp->torch_geometric) (1.9.4)\n",
      "Requirement already satisfied: MarkupSafe>=2.0 in /opt/conda/lib/python3.11/site-packages (from jinja2->torch_geometric) (2.1.3)\n",
      "Requirement already satisfied: charset-normalizer<4,>=2 in /opt/conda/lib/python3.11/site-packages (from requests->torch_geometric) (3.3.0)\n",
      "Requirement already satisfied: idna<4,>=2.5 in /opt/conda/lib/python3.11/site-packages (from requests->torch_geometric) (3.4)\n",
      "Requirement already satisfied: urllib3<3,>=1.21.1 in /opt/conda/lib/python3.11/site-packages (from requests->torch_geometric) (2.0.7)\n",
      "Requirement already satisfied: certifi>=2017.4.17 in /opt/conda/lib/python3.11/site-packages (from requests->torch_geometric) (2024.7.4)\n",
      "Requirement already satisfied: joblib>=1.1.1 in /opt/conda/lib/python3.11/site-packages (from scikit-learn->torch_geometric) (1.3.2)\n",
      "Requirement already satisfied: threadpoolctl>=2.0.0 in /opt/conda/lib/python3.11/site-packages (from scikit-learn->torch_geometric) (3.2.0)\n"
     ]
    }
   ],
   "source": [
    "!pip install gymnasium torch_geometric"
   ]
  },
  {
   "cell_type": "code",
   "execution_count": 2,
   "id": "600e7dfa-0283-46dc-92fb-f3f4c36fff43",
   "metadata": {},
   "outputs": [],
   "source": [
    "import torch"
   ]
  },
  {
   "cell_type": "markdown",
   "id": "1f044e35-6e9a-4665-ab98-f8ff6f3dc6cd",
   "metadata": {},
   "source": [
    "## Playground"
   ]
  },
  {
   "cell_type": "code",
   "execution_count": 60,
   "id": "e9ed7ae8-e340-4c30-aeee-3ae7413585d0",
   "metadata": {},
   "outputs": [],
   "source": [
    "# num employees one hot encoded. 1 feature describing the job (0 is doctor, 1 is nurse)\n",
    "employees = torch.tensor([[1],[1],[1],[1],[1]])\n",
    "employees = employees.to(torch.float)"
   ]
  },
  {
   "cell_type": "code",
   "execution_count": 61,
   "id": "a055be9e-5111-4ce4-9ecc-82743502f93a",
   "metadata": {},
   "outputs": [],
   "source": [
    "# shift nodes one hot encoded. 6 classes for weekday (one class is dropped to reduce collinearity) and 1 class for night/day shift.\n",
    "shifts = list()\n",
    "shifts.append(torch.tensor([0,0,0,0,0,0,0])) # Monday, day\n",
    "shifts.append(torch.tensor([0,0,0,0,0,0,1])) # Monday, night\n",
    "shifts.append(torch.tensor([1,0,0,0,0,0,0])) # Tuesday, day\n",
    "shifts.append(torch.tensor([1,0,0,0,0,0,1])) # Tuesday, night\n",
    "shifts.append(torch.tensor([0,1,0,0,0,0,0])) # Wednesday, day\n",
    "shifts.append(torch.tensor([0,1,0,0,0,0,1])) # Wednesday, night\n",
    "shifts.append(torch.tensor([0,0,1,0,0,0,0])) # Thursday, day\n",
    "shifts.append(torch.tensor([0,0,1,0,0,0,1])) # Thursday, night\n",
    "shifts.append(torch.tensor([0,0,0,1,0,0,0])) # Friday, day\n",
    "shifts.append(torch.tensor([0,0,0,1,0,0,1])) # Friday, night\n",
    "shifts.append(torch.tensor([0,0,0,0,1,0,0])) # Saturday, day\n",
    "shifts.append(torch.tensor([0,0,0,0,1,0,1])) # Saturday, night\n",
    "shifts.append(torch.tensor([0,0,0,0,0,1,0])) # Sunday, day\n",
    "shifts.append(torch.tensor([0,0,0,0,0,1,1])) # Sunday, night\n",
    "shifts = torch.vstack(shifts)\n",
    "shifts = shifts.to(torch.float)"
   ]
  },
  {
   "cell_type": "code",
   "execution_count": 62,
   "id": "0cf7083a-b511-4a60-b82e-4ffb4658b915",
   "metadata": {},
   "outputs": [],
   "source": [
    "# create edges from employees to shifts\n",
    "assignments = torch.tensor([[1,2,3],[2,3,4]], dtype=torch.int64)\n",
    "assignments = torch.tensor([[],[]], dtype=torch.int64)"
   ]
  },
  {
   "cell_type": "code",
   "execution_count": 63,
   "id": "ee6be751-b36b-4923-929d-0e5fe4f0f57a",
   "metadata": {},
   "outputs": [
    {
     "name": "stdout",
     "output_type": "stream",
     "text": [
      "Data validation successful\n",
      "The graph has  19  nodes\n",
      "The graph has  0  edges\n"
     ]
    }
   ],
   "source": [
    "# create graph\n",
    "from torch_geometric.data import HeteroData\n",
    "data=HeteroData()\n",
    "data[\"employee\"].x = employees\n",
    "data[\"shift\"].x = shifts\n",
    "data['employee', 'assigned', 'shift'].edge_index = assignments\n",
    "if data.validate(raise_on_error=True):\n",
    "    print(\"Data validation successful\") \n",
    "else: \n",
    "    raise ValueError(\"Data validation not successful\")\n",
    "\n",
    "print(\"The graph has \", data.num_nodes, \" nodes\")\n",
    "print(\"The graph has \", data.num_edges, \" edges\")"
   ]
  },
  {
   "cell_type": "code",
   "execution_count": 7,
   "id": "51ccef2c-790c-4c84-bc22-24b6368e9e9e",
   "metadata": {},
   "outputs": [],
   "source": [
    "# create models\n",
    "from torch_geometric.nn import RGCNConv \n",
    "gnn_employees = RGCNConv(in_channels = (1,7), out_channels=2, num_relations=1)\n",
    "gnn_shifts = RGCNConv(in_channels = (7,1), out_channels=2, num_relations=1)"
   ]
  },
  {
   "cell_type": "code",
   "execution_count": 8,
   "id": "f8aa18f0-f4e8-434b-8279-f7fc057a25fa",
   "metadata": {},
   "outputs": [],
   "source": [
    "# encode nodes\n",
    "out_shifts = gnn_employees(x=(data.x_dict[\"employee\"], data.x_dict[\"shift\"]), edge_index=data[\"assigned\"][\"edge_index\"], edge_type=torch.zeros(data[\"assigned\"][\"edge_index\"].shape[1], dtype=torch.int64))\n",
    "\n",
    "assignments_flipped=torch.vstack((data[\"assigned\"][\"edge_index\"][1], data[\"assigned\"][\"edge_index\"][0])) \n",
    "out_employees = gnn_shifts(x=(data.x_dict[\"shift\"], data.x_dict[\"employee\"]), edge_index=assignments_flipped, edge_type=torch.zeros(data[\"assigned\"][\"edge_index\"].shape[1], dtype=torch.int64))"
   ]
  },
  {
   "cell_type": "code",
   "execution_count": 9,
   "id": "43661cd1-13ee-41ee-98e6-0837fc18afb0",
   "metadata": {},
   "outputs": [],
   "source": [
    "# decoder class\n",
    "import itertools\n",
    "class decoder():\n",
    "    def __init__(self):\n",
    "        pass\n",
    "    def decode(self, emb_employees, emb_shifts):\n",
    "        num_employees = emb_employees.shape[0]\n",
    "        num_shifts = emb_shifts.shape[0]\n",
    "\n",
    "        scores = list()\n",
    "        for p in itertools.product(range(num_employees), range(num_shifts)):\n",
    "            score = torch.dot(emb_employees[p[0]], emb_shifts[p[1]])\n",
    "            scores.append(((p[0], p[1]),score))\n",
    "\n",
    "        # returns list of tuples containting the dot product and the indicies of the two nodes\n",
    "        return scores  "
   ]
  },
  {
   "cell_type": "code",
   "execution_count": 10,
   "id": "98da0828-7f7a-448d-a209-f5766960012c",
   "metadata": {},
   "outputs": [],
   "source": [
    "# decode embeddings (calculating scores)\n",
    "dec = decoder()\n",
    "scores = dec.decode(out_employees, out_shifts)"
   ]
  },
  {
   "cell_type": "markdown",
   "id": "7082fcad-8b48-4910-95c6-d398dd649e90",
   "metadata": {},
   "source": [
    "## Reinforcement Learning Environment"
   ]
  },
  {
   "cell_type": "code",
   "execution_count": 277,
   "id": "9873b04c-9b3d-48f6-845c-1bede3b252ec",
   "metadata": {},
   "outputs": [],
   "source": [
    "# RL env bauen\n",
    "from collections import Counter\n",
    "from typing import Tuple\n",
    "\n",
    "import gymnasium as gym\n",
    "from torch_geometric.data import HeteroData\n",
    "\n",
    "class personnelScheduleEnv(gym.Env):\n",
    "    def __init__(self, employees: torch.tensor, shifts: torch.tensor, assignments: torch.tensor) -> None:        \n",
    "        # setup graph\n",
    "        self.initial_state=HeteroData()\n",
    "        self.initial_state[\"employee\"].x = employees\n",
    "        self.initial_state[\"shift\"].x = shifts\n",
    "        self.initial_state[\"employee\", \"assigned\", \"shift\"].edge_index = assignments\n",
    "        if self.initial_state.validate(raise_on_error=True):\n",
    "            print(\"Data validation successful\") \n",
    "        else: \n",
    "            raise ValueError(\"Data validation not successful\")\n",
    "        print(\"The graph has \", self.initial_state.num_nodes, \" nodes\")\n",
    "        print(\"The graph has \", self.initial_state.num_edges, \" edges\")\n",
    "\n",
    "        self.action_space = gym.spaces.Tuple((gym.spaces.Discrete(employees.shape[0]), gym.spaces.Discrete(shifts.shape[0])))\n",
    "        self.num_employees = self.initial_state[\"employee\"].x.shape[0]\n",
    "        self.num_shifts = self.initial_state[\"shift\"].x.shape[0]\n",
    "\n",
    "    def _get_num_consecutive_violations(self) -> int:\n",
    "        planning = self.get_current_planning()\n",
    "        num_consecutive_violations = 0\n",
    "        for i in range(self.num_shifts-1): \n",
    "            num_consecutive_violations = num_consecutive_violations + (Counter(planning[i])-(Counter(planning[i])-Counter(planning[i+1]))).total()  \n",
    "        return num_consecutive_violations\n",
    "\n",
    "    def get_num_planned_shifts(self) -> int:\n",
    "        return self.state[\"assigned\"].edge_index.shape[1]\n",
    "            \n",
    "    def get_current_planning(self) -> dict:\n",
    "        planning = dict() \n",
    "        for i in range(self.num_shifts):\n",
    "            planning[i] = list()\n",
    "        for i in torch.arange(self.state[\"assigned\"].edge_index.shape[1]): \n",
    "            planning[self.state[\"assigned\"].edge_index[:, i][1].item()].append(self.state[\"assigned\"].edge_index[:, i][0].item())\n",
    "        return planning\n",
    "\n",
    "    def info(self) -> dict:\n",
    "        return {}\n",
    "        \n",
    "    def step(self, action: tuple[int, int]) -> tuple[HeteroData, float, bool, bool, dict]:\n",
    "        if not self.action_space.contains(action):\n",
    "            return (self.state, self.reward(), self.terminated(), self.truncated(), self.info())\n",
    "\n",
    "        action = torch.tensor(action) \n",
    "        mask = torch.ones(self.state[\"assigned\"].edge_index.shape[1], dtype=torch.bool)\n",
    "        for i in torch.arange(self.state[\"assigned\"].edge_index.shape[1]): \n",
    "            if torch.equal(self.state[\"assigned\"].edge_index[:,i], action):\n",
    "                mask[i] = False\n",
    "        self.state[\"assigned\"].edge_index = self.state[\"assigned\"].edge_index[:,mask] \n",
    "        if not (~mask).any():\n",
    "            self.state[\"assigned\"].edge_index = torch.hstack((self.state[\"assigned\"].edge_index, action[:,None]))\n",
    "            \n",
    "        return (self.state, self.reward(), self.terminated(), self.truncated(), self.info())\n",
    "\n",
    "    def reset(self, seed: int = None) -> tuple[HeteroData, dict]:\n",
    "        super().reset(seed=seed)\n",
    "        self.state = self.initial_state\n",
    "        return (self.state, self.info())\n",
    "\n",
    "    def reward(self) -> float:\n",
    "        reward = 0\n",
    "        reward = reward + self.get_num_planned_shifts()\n",
    "        reward = reward - 10*self._get_num_consecutive_violations()\n",
    "        if self.terminated():\n",
    "            reward = reward + 1000\n",
    "        return reward\n",
    "\n",
    "    def terminated(self) -> bool:\n",
    "        terminated = True\n",
    "        planning = self.get_current_planning()\n",
    "        for i in range(self.num_shifts-1): \n",
    "            if len(planning[i])<2:\n",
    "                terminated = False\n",
    "                break\n",
    "        return terminated\n",
    "\n",
    "    def truncated(self) -> bool:\n",
    "        return False"
   ]
  },
  {
   "cell_type": "code",
   "execution_count": 285,
   "id": "66b8380a-cca9-47eb-8912-172c4728490e",
   "metadata": {},
   "outputs": [],
   "source": [
    "# num employees one hot encoded. 1 feature describing the job (0 is doctor, 1 is nurse)\n",
    "employees = torch.tensor([[1],[1],[1],[1],[1]])\n",
    "employees = employees.to(torch.float)"
   ]
  },
  {
   "cell_type": "code",
   "execution_count": 286,
   "id": "d12ab3e1-256c-4fc3-9a2c-f551bec80832",
   "metadata": {},
   "outputs": [],
   "source": [
    "# shift nodes one hot encoded. 6 classes for weekday (one class is dropped to reduce collinearity) and 1 class for night/day shift.\n",
    "shifts = list()\n",
    "shifts.append(torch.tensor([0,0,0,0,0,0,0])) # Monday, day\n",
    "shifts.append(torch.tensor([0,0,0,0,0,0,1])) # Monday, night\n",
    "shifts.append(torch.tensor([1,0,0,0,0,0,0])) # Tuesday, day\n",
    "shifts.append(torch.tensor([1,0,0,0,0,0,1])) # Tuesday, night\n",
    "shifts.append(torch.tensor([0,1,0,0,0,0,0])) # Wednesday, day\n",
    "shifts.append(torch.tensor([0,1,0,0,0,0,1])) # Wednesday, night\n",
    "shifts.append(torch.tensor([0,0,1,0,0,0,0])) # Thursday, day\n",
    "shifts.append(torch.tensor([0,0,1,0,0,0,1])) # Thursday, night\n",
    "shifts.append(torch.tensor([0,0,0,1,0,0,0])) # Friday, day\n",
    "shifts.append(torch.tensor([0,0,0,1,0,0,1])) # Friday, night\n",
    "shifts.append(torch.tensor([0,0,0,0,1,0,0])) # Saturday, day\n",
    "shifts.append(torch.tensor([0,0,0,0,1,0,1])) # Saturday, night\n",
    "shifts.append(torch.tensor([0,0,0,0,0,1,0])) # Sunday, day\n",
    "shifts.append(torch.tensor([0,0,0,0,0,1,1])) # Sunday, night\n",
    "shifts = torch.vstack(shifts)\n",
    "shifts = shifts.to(torch.float)"
   ]
  },
  {
   "cell_type": "code",
   "execution_count": 287,
   "id": "7648e73f-3583-4903-861b-4ffd2fdbb08f",
   "metadata": {},
   "outputs": [],
   "source": [
    "# create edges from employees to shifts\n",
    "#assignments = torch.tensor([[1,2,3],[2,3,4]], dtype=torch.int64)\n",
    "assignments = torch.tensor([[],[]], dtype=torch.int64)"
   ]
  },
  {
   "cell_type": "code",
   "execution_count": 288,
   "id": "bd39fe09-c9bd-48c6-9297-058f5f42384e",
   "metadata": {},
   "outputs": [
    {
     "name": "stdout",
     "output_type": "stream",
     "text": [
      "Data validation successful\n",
      "The graph has  7  nodes\n",
      "The graph has  0  edges\n"
     ]
    },
    {
     "data": {
      "text/plain": [
       "(HeteroData(\n",
       "   employee={ x=[5, 1] },\n",
       "   shift={ x=[2, 7] },\n",
       "   (employee, assigned, shift)={ edge_index=[2, 0] }\n",
       " ),\n",
       " {})"
      ]
     },
     "execution_count": 288,
     "metadata": {},
     "output_type": "execute_result"
    }
   ],
   "source": [
    "env = personnelScheduleEnv(employees=employees, shifts=shifts, assignments=assignments)\n",
    "env.reset()"
   ]
  },
  {
   "cell_type": "code",
   "execution_count": null,
   "id": "22379c33-21cf-4f7d-8dcf-f3a8ce084e5f",
   "metadata": {},
   "outputs": [],
   "source": []
  },
  {
   "cell_type": "code",
   "execution_count": 295,
   "id": "5b2a3ab8-10c5-4fe8-8625-19d16620d342",
   "metadata": {},
   "outputs": [
    {
     "data": {
      "text/plain": [
       "(HeteroData(\n",
       "   employee={ x=[5, 1] },\n",
       "   shift={ x=[2, 7] },\n",
       "   (employee, assigned, shift)={ edge_index=[2, 4] }\n",
       " ),\n",
       " 984,\n",
       " True,\n",
       " False,\n",
       " {})"
      ]
     },
     "execution_count": 295,
     "metadata": {},
     "output_type": "execute_result"
    }
   ],
   "source": [
    "env.step((1,0))"
   ]
  },
  {
   "cell_type": "code",
   "execution_count": 293,
   "id": "7249fc59-de3e-460d-8a7b-9079ed291085",
   "metadata": {},
   "outputs": [
    {
     "data": {
      "text/plain": [
       "tensor([[0, 0],\n",
       "        [0, 1]])"
      ]
     },
     "execution_count": 293,
     "metadata": {},
     "output_type": "execute_result"
    }
   ],
   "source": [
    "env.state[\"assigned\"].edge_index"
   ]
  },
  {
   "cell_type": "code",
   "execution_count": 296,
   "id": "aed147ed-b916-4dff-ba06-33f6485e1914",
   "metadata": {},
   "outputs": [
    {
     "data": {
      "image/png": "[encoded data removed]",
      "text/plain": [
       "<Figure size 640x480 with 1 Axes>"
      ]
     },
     "metadata": {},
     "output_type": "display_data"
    }
   ],
   "source": [
    "import networkx as nx \n",
    "from torch_geometric.utils import to_networkx\n",
    "\n",
    "g=to_networkx(env.state)\n",
    "nx.draw(g)"
   ]
  }
 ],
 "metadata": {
  "kernelspec": {
   "display_name": "Python 3 (ipykernel)",
   "language": "python",
   "name": "python3"
  },
  "language_info": {
   "codemirror_mode": {
    "name": "ipython",
    "version": 3
   },
   "file_extension": ".py",
   "mimetype": "text/x-python",
   "name": "python",
   "nbconvert_exporter": "python",
   "pygments_lexer": "ipython3",
   "version": "3.11.6"
  }
 },
 "nbformat": 4,
 "nbformat_minor": 5
}
