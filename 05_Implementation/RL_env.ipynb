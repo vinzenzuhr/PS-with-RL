{
 "cells": [
  {
   "cell_type": "code",
   "execution_count": 1,
   "id": "600e7dfa-0283-46dc-92fb-f3f4c36fff43",
   "metadata": {},
   "outputs": [
    {
     "name": "stderr",
     "output_type": "stream",
     "text": [
      "2024-08-30 16:28:06.056744: I tensorflow/tsl/cuda/cudart_stub.cc:28] Could not find cuda drivers on your machine, GPU will not be used.\n",
      "2024-08-30 16:28:06.158347: E tensorflow/compiler/xla/stream_executor/cuda/cuda_dnn.cc:9342] Unable to register cuDNN factory: Attempting to register factory for plugin cuDNN when one has already been registered\n",
      "2024-08-30 16:28:06.158455: E tensorflow/compiler/xla/stream_executor/cuda/cuda_fft.cc:609] Unable to register cuFFT factory: Attempting to register factory for plugin cuFFT when one has already been registered\n",
      "2024-08-30 16:28:06.158549: E tensorflow/compiler/xla/stream_executor/cuda/cuda_blas.cc:1518] Unable to register cuBLAS factory: Attempting to register factory for plugin cuBLAS when one has already been registered\n",
      "2024-08-30 16:28:06.174612: I tensorflow/tsl/cuda/cudart_stub.cc:28] Could not find cuda drivers on your machine, GPU will not be used.\n",
      "2024-08-30 16:28:06.176382: I tensorflow/core/platform/cpu_feature_guard.cc:182] This TensorFlow binary is optimized to use available CPU instructions in performance-critical operations.\n",
      "To enable the following instructions: AVX2 FMA, in other operations, rebuild TensorFlow with the appropriate compiler flags.\n",
      "2024-08-30 16:28:08.608941: W tensorflow/compiler/tf2tensorrt/utils/py_utils.cc:38] TF-TRT Warning: Could not find TensorRT\n"
     ]
    }
   ],
   "source": [
    "from dataclasses import dataclass\n",
    "import os\n",
    "\n",
    "import torch \n",
    "from torch.utils.tensorboard import SummaryWriter\n",
    "from torch_geometric.nn import RGCNConv\n",
    "\n",
    "from custom_modules import Training"
   ]
  },
  {
   "cell_type": "code",
   "execution_count": 2,
   "id": "0d4338b3-e039-4a95-a15e-e4828e237fef",
   "metadata": {},
   "outputs": [],
   "source": [
    "@dataclass\n",
    "class TrainingConfig:\n",
    "    output_dir = \"RL_PersSched\"\n",
    "    num_epoch = 220000 #10'000 needs 1 hour with 3x CPU, 3GB RAM and 1x 1080ti\n",
    "    max_steps = 20\n",
    "    batch_size = 128\n",
    "    device = torch.device(\"cuda\" if torch.cuda.is_available() else \"cpu\")\n",
    "    replay_size = 10000\n",
    "    eval_every_n_epochs = 20\n",
    "    lr = 1e-4\n",
    "    gamma = 0.9\n",
    "    hidden_dim = 3\n",
    "    num_message_passing = 4\n",
    "\n",
    "config = TrainingConfig()"
   ]
  },
  {
   "cell_type": "markdown",
   "id": "2cd5a1ff-2334-4015-af1e-fc20e3770734",
   "metadata": {},
   "source": [
    "## Training"
   ]
  },
  {
   "cell_type": "code",
   "execution_count": 3,
   "id": "34866725-a019-416a-88c7-2146df8b8ab8",
   "metadata": {},
   "outputs": [],
   "source": [
    "tb_summary = SummaryWriter(config.output_dir, purge_step=0)\n",
    "os.makedirs(config.output_dir, exist_ok=True)"
   ]
  },
  {
   "cell_type": "code",
   "execution_count": 4,
   "id": "29916757-2e60-4d74-88c3-18486986e2e1",
   "metadata": {},
   "outputs": [],
   "source": [
    "gnn = RGCNConv(in_channels = (config.hidden_dim, config.hidden_dim), out_channels=config.hidden_dim, num_relations=1).to(config.device)\n",
    "dim_employee = 1\n",
    "projection_employees = torch.nn.Linear(dim_employee, config.hidden_dim).to(config.device)\n",
    "dim_shift = 7\n",
    "projection_shifts = torch.nn.Linear(dim_shift, config.hidden_dim).to(config.device)"
   ]
  },
  {
   "cell_type": "code",
   "execution_count": 6,
   "id": "0ca3d151-b5ca-4742-bd82-e3a73a73f379",
   "metadata": {},
   "outputs": [],
   "source": [
    "optimizer = torch.optim.AdamW(\n",
    "    list(gnn.parameters()) + list(projection_employees.parameters()) + list(projection_shifts.parameters()), \n",
    "    lr=config.lr, \n",
    "    amsgrad=True\n",
    "    ) "
   ]
  },
  {
   "cell_type": "code",
   "execution_count": 7,
   "id": "03972eab-f5f3-4e86-b277-0635e330b13f",
   "metadata": {},
   "outputs": [
    {
     "name": "stderr",
     "output_type": "stream",
     "text": [
      "  0%|                                                                            | 20/220000 [00:29<90:26:16,  1.48s/it]\n",
      "\n",
      "KeyboardInterrupt\n",
      "\n"
     ]
    }
   ],
   "source": [
    "training = Training(\n",
    "    gnn, \n",
    "    optimizer, \n",
    "    projection_employees,\n",
    "    projection_shifts,\n",
    "    tb_summary, \n",
    "    device=config.device,\n",
    "    num_message_passing=config.num_message_passing, \n",
    "    gamma=config.gamma,\n",
    "    max_steps=config.max_steps, \n",
    "    num_epoch=config.num_epoch, \n",
    "    batch_size=config.batch_size, \n",
    "    replay_size=config.replay_size, \n",
    "    eval_every_n_epochs=config.eval_every_n_epochs,\n",
    "    output_dir=config.output_dir\n",
    ")\n",
    "training.start_training()"
   ]
  },
  {
   "cell_type": "markdown",
   "id": "fbef0127-26f7-4177-9d57-854b71a1b2da",
   "metadata": {},
   "source": [
    "## Save as python script"
   ]
  },
  {
   "cell_type": "code",
   "execution_count": 8,
   "id": "211f4f10-9fd8-43c6-aff2-6a98a473affb",
   "metadata": {},
   "outputs": [
    {
     "name": "stdout",
     "output_type": "stream",
     "text": [
      "[NbConvertApp] Converting notebook RL_env.ipynb to script\n",
      "[NbConvertApp] Writing 2138 bytes to RL_env.py\n"
     ]
    }
   ],
   "source": [
    "import os\n",
    "\n",
    "!jupyter nbconvert --to script \"RL_env.ipynb\"\n",
    "filename = \"RL_env.py\"\n",
    "\n",
    "# delete this cell from python file\n",
    "lines = []\n",
    "with open(filename, 'r') as fp:\n",
    "    lines = fp.readlines()\n",
    "with open(filename, 'w') as fp:\n",
    "    for number, line in enumerate(lines):\n",
    "        if number < len(lines)-17: \n",
    "            fp.write(line)"
   ]
  }
 ],
 "metadata": {
  "kernelspec": {
   "display_name": "Python 3 (ipykernel)",
   "language": "python",
   "name": "python3"
  },
  "language_info": {
   "codemirror_mode": {
    "name": "ipython",
    "version": 3
   },
   "file_extension": ".py",
   "mimetype": "text/x-python",
   "name": "python",
   "nbconvert_exporter": "python",
   "pygments_lexer": "ipython3",
   "version": "3.11.6"
  }
 },
 "nbformat": 4,
 "nbformat_minor": 5
}
