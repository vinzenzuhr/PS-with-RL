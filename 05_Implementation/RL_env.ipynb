{
 "cells": [
  {
   "cell_type": "code",
   "execution_count": 1,
   "id": "b54418ad-b423-494c-907e-00dfa00a6011",
   "metadata": {},
   "outputs": [
    {
     "name": "stdout",
     "output_type": "stream",
     "text": [
      "Collecting gym==0.25.2\n",
      "  Downloading gym-0.25.2.tar.gz (734 kB)\n",
      "\u001b[2K     \u001b[90m━━━━━━━━━━━━━━━━━━━━━━━━━━━━━━━━━━━━━━━\u001b[0m \u001b[32m734.5/734.5 kB\u001b[0m \u001b[31m8.4 MB/s\u001b[0m eta \u001b[36m0:00:00\u001b[0m\n",
      "\u001b[?25h  Installing build dependencies ... \u001b[?25ldone\n",
      "\u001b[?25h  Getting requirements to build wheel ... \u001b[?25ldone\n",
      "\u001b[?25h  Preparing metadata (pyproject.toml) ... \u001b[?25ldone\n",
      "\u001b[?25hRequirement already satisfied: numpy in /opt/conda/lib/python3.11/site-packages (1.24.4)\n",
      "Collecting torch_geometric\n",
      "  Downloading torch_geometric-2.5.3-py3-none-any.whl.metadata (64 kB)\n",
      "Requirement already satisfied: cloudpickle>=1.2.0 in /opt/conda/lib/python3.11/site-packages (from gym==0.25.2) (3.0.0)\n",
      "Collecting gym-notices>=0.0.4 (from gym==0.25.2)\n",
      "  Downloading gym_notices-0.0.8-py3-none-any.whl.metadata (1.0 kB)\n",
      "Requirement already satisfied: tqdm in /opt/conda/lib/python3.11/site-packages (from torch_geometric) (4.66.5)\n",
      "Requirement already satisfied: scipy in /opt/conda/lib/python3.11/site-packages (from torch_geometric) (1.11.3)\n",
      "Requirement already satisfied: fsspec in /opt/conda/lib/python3.11/site-packages (from torch_geometric) (2023.9.2)\n",
      "Requirement already satisfied: jinja2 in /opt/conda/lib/python3.11/site-packages (from torch_geometric) (3.1.2)\n",
      "Requirement already satisfied: aiohttp in /opt/conda/lib/python3.11/site-packages (from torch_geometric) (3.10.3)\n",
      "Requirement already satisfied: requests in /opt/conda/lib/python3.11/site-packages (from torch_geometric) (2.32.3)\n",
      "Requirement already satisfied: pyparsing in /opt/conda/lib/python3.11/site-packages (from torch_geometric) (3.1.1)\n",
      "Requirement already satisfied: scikit-learn in /opt/conda/lib/python3.11/site-packages (from torch_geometric) (1.3.1)\n",
      "Requirement already satisfied: psutil>=5.8.0 in /opt/conda/lib/python3.11/site-packages (from torch_geometric) (5.9.5)\n",
      "Requirement already satisfied: aiohappyeyeballs>=2.3.0 in /opt/conda/lib/python3.11/site-packages (from aiohttp->torch_geometric) (2.3.5)\n",
      "Requirement already satisfied: aiosignal>=1.1.2 in /opt/conda/lib/python3.11/site-packages (from aiohttp->torch_geometric) (1.3.1)\n",
      "Requirement already satisfied: attrs>=17.3.0 in /opt/conda/lib/python3.11/site-packages (from aiohttp->torch_geometric) (23.1.0)\n",
      "Requirement already satisfied: frozenlist>=1.1.1 in /opt/conda/lib/python3.11/site-packages (from aiohttp->torch_geometric) (1.4.1)\n",
      "Requirement already satisfied: multidict<7.0,>=4.5 in /opt/conda/lib/python3.11/site-packages (from aiohttp->torch_geometric) (6.0.5)\n",
      "Requirement already satisfied: yarl<2.0,>=1.0 in /opt/conda/lib/python3.11/site-packages (from aiohttp->torch_geometric) (1.9.4)\n",
      "Requirement already satisfied: MarkupSafe>=2.0 in /opt/conda/lib/python3.11/site-packages (from jinja2->torch_geometric) (2.1.3)\n",
      "Requirement already satisfied: charset-normalizer<4,>=2 in /opt/conda/lib/python3.11/site-packages (from requests->torch_geometric) (3.3.0)\n",
      "Requirement already satisfied: idna<4,>=2.5 in /opt/conda/lib/python3.11/site-packages (from requests->torch_geometric) (3.4)\n",
      "Requirement already satisfied: urllib3<3,>=1.21.1 in /opt/conda/lib/python3.11/site-packages (from requests->torch_geometric) (2.0.7)\n",
      "Requirement already satisfied: certifi>=2017.4.17 in /opt/conda/lib/python3.11/site-packages (from requests->torch_geometric) (2024.7.4)\n",
      "Requirement already satisfied: joblib>=1.1.1 in /opt/conda/lib/python3.11/site-packages (from scikit-learn->torch_geometric) (1.3.2)\n",
      "Requirement already satisfied: threadpoolctl>=2.0.0 in /opt/conda/lib/python3.11/site-packages (from scikit-learn->torch_geometric) (3.2.0)\n",
      "Downloading torch_geometric-2.5.3-py3-none-any.whl (1.1 MB)\n",
      "\u001b[2K   \u001b[90m━━━━━━━━━━━━━━━━━━━━━━━━━━━━━━━━━━━━━━━━\u001b[0m \u001b[32m1.1/1.1 MB\u001b[0m \u001b[31m8.7 MB/s\u001b[0m eta \u001b[36m0:00:00\u001b[0m\n",
      "\u001b[?25hDownloading gym_notices-0.0.8-py3-none-any.whl (3.0 kB)\n",
      "Building wheels for collected packages: gym\n",
      "  Building wheel for gym (pyproject.toml) ... \u001b[?25ldone\n",
      "\u001b[?25h  Created wheel for gym: filename=gym-0.25.2-py3-none-any.whl size=852293 sha256=83d07ca0a6871108baacf7f694074ba6701aaf4df391daaded05c39f72961cae\n",
      "  Stored in directory: /home/jovyan/.cache/pip/wheels/7e/09/48/68ead2493e0b2c26cb6aeb5a712d379f638b5cc21d3501e2f0\n",
      "Successfully built gym\n",
      "Installing collected packages: gym-notices, gym, torch_geometric\n",
      "Successfully installed gym-0.25.2 gym-notices-0.0.8 torch_geometric-2.5.3\n"
     ]
    }
   ],
   "source": [
    "!pip install gym==0.25.2 numpy torch_geometric"
   ]
  },
  {
   "cell_type": "code",
   "execution_count": 5,
   "id": "600e7dfa-0283-46dc-92fb-f3f4c36fff43",
   "metadata": {},
   "outputs": [],
   "source": [
    "import torch"
   ]
  },
  {
   "cell_type": "code",
   "execution_count": 8,
   "id": "e9ed7ae8-e340-4c30-aeee-3ae7413585d0",
   "metadata": {},
   "outputs": [],
   "source": [
    "# num employees\n",
    "num_employee=5"
   ]
  },
  {
   "cell_type": "code",
   "execution_count": 22,
   "id": "a055be9e-5111-4ce4-9ecc-82743502f93a",
   "metadata": {},
   "outputs": [],
   "source": [
    "# shift nodes one hot encoded. 6 classes for weekday (one class is dropped to reduce collinearity) and 1 class for night/day shift.\n",
    "shifts = list()\n",
    "shifts.append(torch.tensor([0,0,0,0,0,0,0])) # Monday, day\n",
    "shifts.append(torch.tensor([0,0,0,0,0,0,1])) # Monday, night\n",
    "shifts.append(torch.tensor([1,0,0,0,0,0,0])) # Tuesday, day\n",
    "shifts.append(torch.tensor([1,0,0,0,0,0,1])) # Tuesday, night\n",
    "shifts.append(torch.tensor([0,1,0,0,0,0,0])) # Wednesday, day\n",
    "shifts.append(torch.tensor([0,1,0,0,0,0,1])) # Wednesday, night\n",
    "shifts.append(torch.tensor([0,0,1,0,0,0,0])) # Thursday, day\n",
    "shifts.append(torch.tensor([0,0,1,0,0,0,1])) # Thursday, night\n",
    "shifts.append(torch.tensor([0,0,0,1,0,0,0])) # Friday, day\n",
    "shifts.append(torch.tensor([0,0,0,1,0,0,1])) # Friday, night\n",
    "shifts.append(torch.tensor([0,0,0,0,1,0,0])) # Saturday, day\n",
    "shifts.append(torch.tensor([0,0,0,0,1,0,1])) # Saturday, night\n",
    "shifts.append(torch.tensor([0,0,0,0,0,1,0])) # Sunday, day\n",
    "shifts.append(torch.tensor([0,0,0,0,0,1,1])) # Sunday, night\n",
    "shifts = torch.vstack(shifts)"
   ]
  },
  {
   "cell_type": "code",
   "execution_count": 38,
   "id": "ee6be751-b36b-4923-929d-0e5fe4f0f57a",
   "metadata": {},
   "outputs": [],
   "source": [
    "# create graph\n",
    "from torch_geometric.data import HeteroData\n",
    "data=HeteroData()\n",
    "data[\"employee\"].x = torch.ones(num_employee)\n",
    "data[\"shift\"].x = shifts\n",
    "data['employee', 'has', 'shift'].edge_index = [[1,2],[2,3]]"
   ]
  },
  {
   "cell_type": "code",
   "execution_count": 40,
   "id": "afd6a704-0bb1-4f93-a450-765dcf5c15ba",
   "metadata": {},
   "outputs": [
    {
     "data": {
      "text/plain": [
       "HeteroData(\n",
       "  employee={ x=[5] },\n",
       "  shift={ x=[14, 7] },\n",
       "  (employee, has, shift)={ edge_index=[2] }\n",
       ")"
      ]
     },
     "execution_count": 40,
     "metadata": {},
     "output_type": "execute_result"
    }
   ],
   "source": [
    "data"
   ]
  },
  {
   "cell_type": "code",
   "execution_count": 39,
   "id": "ab49c24e-06aa-4c28-b8ae-da381e4570b1",
   "metadata": {},
   "outputs": [
    {
     "data": {
      "text/plain": [
       "0"
      ]
     },
     "execution_count": 39,
     "metadata": {},
     "output_type": "execute_result"
    }
   ],
   "source": [
    "data['employee', 'has', 'shift'].num_edges"
   ]
  },
  {
   "cell_type": "code",
   "execution_count": null,
   "id": "ab03306f-ed58-4133-87e1-c483c043f581",
   "metadata": {},
   "outputs": [],
   "source": [
    "\"\"\"\n",
    "from torch.nn import ReLU, Linear\n",
    "from torch_geometric.nn import MessagePassing\n",
    "from torch_geometric.utils import add_self_loops\n",
    "\n",
    "class GNN(MessagePassing):\n",
    "    def __init__(self, in_channels, out_channels):\n",
    "        super().__init__(aggr='add')\n",
    "        self.lin = Linear(in_channels, out_channels, bias=False)\n",
    "        self.self_loop = Linear(in_channels, out_channels, bias=False)\n",
    "\n",
    "    def reset_parameters(self):\n",
    "        self.lin.reset_parameters()\n",
    "        self.bias.data.zero_()\n",
    "\n",
    "    def forward(self, x, edge_index):\n",
    "        # x has shape [N, in_channels]\n",
    "        # edge_index has shape [2, E]\n",
    "        \n",
    "        return self.propagate(edge_index, x=x)\n",
    "\n",
    "    def message(self, x_i, x_j):\n",
    "        # x_i has shape [E, in_channels]\n",
    "        # x_j has shape [E, in_channels]\n",
    "\n",
    "        print(x_i) # ist x_i wirklich eine copy von sich selbst für jeden Edge?\n",
    "\n",
    "        x_j_2 = self.lin(x_j)\n",
    "        x_i_2 = self.self_loop(x_i[0])\n",
    "\n",
    "        x_i_2 * x_j_2.shape[0]\n",
    "\n",
    "        return x_j_2 + x_i_2\n",
    "\n",
    "    def update(aggr_out):\n",
    "        return ReLU(aggr_out)\n",
    "        \n",
    "        \n",
    "\n",
    "gnn_employees = GNN(1,2)\n",
    "gnn_shifts = GNN(7,2)\n",
    "\"\"\"\n",
    "        \n",
    "    "
   ]
  },
  {
   "cell_type": "code",
   "execution_count": 25,
   "id": "51ccef2c-790c-4c84-bc22-24b6368e9e9e",
   "metadata": {},
   "outputs": [],
   "source": [
    "from torch_geometric.nn import RGCNConv\n",
    "\n",
    "gnn_employees = RGCNConv(in_channels = 1, out_channels=2, num_relations=1)\n",
    "gnn_shifts = RGCNConv(in_channels = 7, out_channels=2, num_relations=1)"
   ]
  },
  {
   "cell_type": "code",
   "execution_count": null,
   "id": "43661cd1-13ee-41ee-98e6-0837fc18afb0",
   "metadata": {},
   "outputs": [],
   "source": [
    "import itertools\n",
    "\n",
    "class decoder():\n",
    "    def __init__(self):\n",
    "        pass\n",
    "    def decode(emb_employees, emb_shifts):\n",
    "        num_employees = emb_employees.shape[0]\n",
    "        num_shifts = emb_shifts.shape[0]\n",
    "\n",
    "        scores = list()\n",
    "        for p in itertools.product(range(num_employees), range(num_shifts)):\n",
    "            score = torch.dot(emb_employees[p[0]], emb_shifts[p[1]])\n",
    "            scores.append(((p[0], p[1]),score))\n",
    "\n",
    "        # returns list of tuples containting the dot product and the indicies of the two nodes\n",
    "        return scores  "
   ]
  },
  {
   "cell_type": "code",
   "execution_count": null,
   "id": "98da0828-7f7a-448d-a209-f5766960012c",
   "metadata": {},
   "outputs": [],
   "source": []
  }
 ],
 "metadata": {
  "kernelspec": {
   "display_name": "Python 3 (ipykernel)",
   "language": "python",
   "name": "python3"
  },
  "language_info": {
   "codemirror_mode": {
    "name": "ipython",
    "version": 3
   },
   "file_extension": ".py",
   "mimetype": "text/x-python",
   "name": "python",
   "nbconvert_exporter": "python",
   "pygments_lexer": "ipython3",
   "version": "3.11.6"
  }
 },
 "nbformat": 4,
 "nbformat_minor": 5
}
