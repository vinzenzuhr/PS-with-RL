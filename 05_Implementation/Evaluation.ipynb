{
 "cells": [
  {
   "cell_type": "code",
   "execution_count": 1,
   "id": "84611287-fc73-41fc-80de-819c28102b61",
   "metadata": {},
   "outputs": [
    {
     "name": "stderr",
     "output_type": "stream",
     "text": [
      "2024-08-29 06:11:46.574779: I tensorflow/tsl/cuda/cudart_stub.cc:28] Could not find cuda drivers on your machine, GPU will not be used.\n",
      "2024-08-29 06:11:48.267061: E tensorflow/compiler/xla/stream_executor/cuda/cuda_dnn.cc:9342] Unable to register cuDNN factory: Attempting to register factory for plugin cuDNN when one has already been registered\n",
      "2024-08-29 06:11:48.267308: E tensorflow/compiler/xla/stream_executor/cuda/cuda_fft.cc:609] Unable to register cuFFT factory: Attempting to register factory for plugin cuFFT when one has already been registered\n",
      "2024-08-29 06:11:48.331059: E tensorflow/compiler/xla/stream_executor/cuda/cuda_blas.cc:1518] Unable to register cuBLAS factory: Attempting to register factory for plugin cuBLAS when one has already been registered\n",
      "2024-08-29 06:11:49.440993: I tensorflow/tsl/cuda/cudart_stub.cc:28] Could not find cuda drivers on your machine, GPU will not be used.\n",
      "2024-08-29 06:11:49.451969: I tensorflow/core/platform/cpu_feature_guard.cc:182] This TensorFlow binary is optimized to use available CPU instructions in performance-critical operations.\n",
      "To enable the following instructions: AVX2 FMA, in other operations, rebuild TensorFlow with the appropriate compiler flags.\n",
      "2024-08-29 06:11:55.365482: W tensorflow/compiler/tf2tensorrt/utils/py_utils.cc:38] TF-TRT Warning: Could not find TensorRT\n"
     ]
    }
   ],
   "source": [
    "from dataclasses import dataclass\n",
    "\n",
    "import networkx as nx \n",
    "import torch\n",
    "from torch_geometric.nn import RGCNConv\n",
    "from torch_geometric.utils import to_networkx\n",
    "\n",
    "from custom_modules import DataGenerator, PersonnelScheduleEnv, RLagent, ActorMemoryWrapper, Actor"
   ]
  },
  {
   "cell_type": "code",
   "execution_count": 2,
   "id": "0234124b-bd9c-42d5-bb39-75f18b26df11",
   "metadata": {},
   "outputs": [],
   "source": [
    "@dataclass\n",
    "class EvaluationConfig:\n",
    "    output_dir = \"RL_PersSched\" \n",
    "    max_steps = 20\n",
    "    device = torch.device(\"cuda\" if torch.cuda.is_available() else \"cpu\")\n",
    "    hidden_dim = 3\n",
    "    num_message_passing = 4\n",
    "\n",
    "config = EvaluationConfig()"
   ]
  },
  {
   "cell_type": "code",
   "execution_count": 3,
   "id": "c484c7b0-769c-4930-af5e-6e122dbb9fdf",
   "metadata": {},
   "outputs": [
    {
     "name": "stderr",
     "output_type": "stream",
     "text": [
      "/tmp/ipykernel_51155/789500737.py:4: FutureWarning: You are using `torch.load` with `weights_only=False` (the current default value), which uses the default pickle module implicitly. It is possible to construct malicious pickle data which will execute arbitrary code during unpickling (See https://github.com/pytorch/pytorch/blob/main/SECURITY.md#untrusted-models for more details). In a future release, the default value for `weights_only` will be flipped to `True`. This limits the functions that could be executed during unpickling. Arbitrary objects will no longer be allowed to be loaded via this mode unless they are explicitly allowlisted by the user via `torch.serialization.add_safe_globals`. We recommend you start setting `weights_only=True` for any use case where you don't have full control of the loaded file. Please open an issue on GitHub for any issues related to this experimental feature.\n",
      "  gnn_employees.load_state_dict(torch.load(config.output_dir + \"/gnn_employees_weights\", map_location=config.device))\n",
      "/tmp/ipykernel_51155/789500737.py:5: FutureWarning: You are using `torch.load` with `weights_only=False` (the current default value), which uses the default pickle module implicitly. It is possible to construct malicious pickle data which will execute arbitrary code during unpickling (See https://github.com/pytorch/pytorch/blob/main/SECURITY.md#untrusted-models for more details). In a future release, the default value for `weights_only` will be flipped to `True`. This limits the functions that could be executed during unpickling. Arbitrary objects will no longer be allowed to be loaded via this mode unless they are explicitly allowlisted by the user via `torch.serialization.add_safe_globals`. We recommend you start setting `weights_only=True` for any use case where you don't have full control of the loaded file. Please open an issue on GitHub for any issues related to this experimental feature.\n",
      "  gnn_shifts.load_state_dict(torch.load(config.output_dir + \"/gnn_shifts_weights\", map_location=config.device))\n"
     ]
    },
    {
     "data": {
      "text/plain": [
       "<All keys matched successfully>"
      ]
     },
     "execution_count": 3,
     "metadata": {},
     "output_type": "execute_result"
    }
   ],
   "source": [
    "gnn = RGCNConv(in_channels = (config.hidden_dim, config.hidden_dim), out_channels=config.hidden_dim, num_relations=1).to(config.device)\n",
    "dim_employee = 1\n",
    "projection_employees = torch.nn.Linear(dim_employee, config.hidden_dim).to(config.device)\n",
    "dim_shift = 7\n",
    "projection_shifts = torch.nn.Linear(dim_shift, config.hidden_dim).to(config.device)\n",
    "\n",
    "gnn.load_state_dict(torch.load(config.output_dir + \"/gnn_weights\", map_location=config.device))\n",
    "projection_employees.load_state_dict(torch.load(config.output_dir + \"/projection_employees_weights\", map_location=config.device))\n",
    "projection_shifts.load_state_dict(torch.load(config.output_dir + \"/projection_shifts_weights\", map_location=config.device))"
   ]
  },
  {
   "cell_type": "code",
   "execution_count": 23,
   "id": "6682af90-57ec-4bf2-a18d-0a382688203d",
   "metadata": {},
   "outputs": [],
   "source": [
    "env = PersonnelScheduleEnv(employees=DataGenerator.get_random_employees(2,2), shifts=DataGenerator.get_week_shifts(), assignments=DataGenerator.get_empty_assignments(), device=config.device)\n",
    "agent = RLagent(gnn, projection_employees, projection_shifts, config.num_message_passing) \n",
    "actor = Actor(agent, env=env, max_steps=config.max_steps)"
   ]
  },
  {
   "cell_type": "code",
   "execution_count": 24,
   "id": "e978ff62-bf3a-4490-b447-0948cc732a92",
   "metadata": {},
   "outputs": [],
   "source": [
    "steps = actor.execute_episode()"
   ]
  },
  {
   "cell_type": "code",
   "execution_count": 25,
   "id": "0c82eb5d-61b4-4d88-88b3-50ed9054ddb0",
   "metadata": {},
   "outputs": [
    {
     "name": "stdout",
     "output_type": "stream",
     "text": [
      "Is terminated:  False\n",
      "Planning: \n"
     ]
    },
    {
     "data": {
      "text/plain": [
       "{0: [],\n",
       " 1: [],\n",
       " 2: [],\n",
       " 3: [],\n",
       " 4: [],\n",
       " 5: [],\n",
       " 6: [],\n",
       " 7: [],\n",
       " 8: [],\n",
       " 9: [0],\n",
       " 10: [],\n",
       " 11: [0],\n",
       " 12: [],\n",
       " 13: []}"
      ]
     },
     "execution_count": 25,
     "metadata": {},
     "output_type": "execute_result"
    }
   ],
   "source": [
    "print(\"Is terminated: \", env.terminated())\n",
    "print(\"Planning: \")\n",
    "env.get_current_planning()"
   ]
  },
  {
   "cell_type": "code",
   "execution_count": 26,
   "id": "5c58653a-f954-4ff7-9bb3-e81a3a8d95c4",
   "metadata": {},
   "outputs": [
    {
     "data": {
      "image/png": "[encoded data removed]",
      "text/plain": [
       "<Figure size 640x480 with 1 Axes>"
      ]
     },
     "metadata": {},
     "output_type": "display_data"
    }
   ],
   "source": [
    "g=to_networkx(env.state)\n",
    "nx.draw(g)"
   ]
  }
 ],
 "metadata": {
  "kernelspec": {
   "display_name": "Python 3 (ipykernel)",
   "language": "python",
   "name": "python3"
  },
  "language_info": {
   "codemirror_mode": {
    "name": "ipython",
    "version": 3
   },
   "file_extension": ".py",
   "mimetype": "text/x-python",
   "name": "python",
   "nbconvert_exporter": "python",
   "pygments_lexer": "ipython3",
   "version": "3.11.6"
  }
 },
 "nbformat": 4,
 "nbformat_minor": 5
}
