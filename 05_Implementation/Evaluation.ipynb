{
 "cells": [
  {
   "cell_type": "code",
   "execution_count": 1,
   "id": "84611287-fc73-41fc-80de-819c28102b61",
   "metadata": {},
   "outputs": [
    {
     "name": "stderr",
     "output_type": "stream",
     "text": [
      "2024-09-03 17:49:27.298499: I tensorflow/tsl/cuda/cudart_stub.cc:28] Could not find cuda drivers on your machine, GPU will not be used.\n",
      "2024-09-03 17:49:27.449936: E tensorflow/compiler/xla/stream_executor/cuda/cuda_dnn.cc:9342] Unable to register cuDNN factory: Attempting to register factory for plugin cuDNN when one has already been registered\n",
      "2024-09-03 17:49:27.450008: E tensorflow/compiler/xla/stream_executor/cuda/cuda_fft.cc:609] Unable to register cuFFT factory: Attempting to register factory for plugin cuFFT when one has already been registered\n",
      "2024-09-03 17:49:27.450058: E tensorflow/compiler/xla/stream_executor/cuda/cuda_blas.cc:1518] Unable to register cuBLAS factory: Attempting to register factory for plugin cuBLAS when one has already been registered\n",
      "2024-09-03 17:49:27.478327: I tensorflow/tsl/cuda/cudart_stub.cc:28] Could not find cuda drivers on your machine, GPU will not be used.\n",
      "2024-09-03 17:49:27.480167: I tensorflow/core/platform/cpu_feature_guard.cc:182] This TensorFlow binary is optimized to use available CPU instructions in performance-critical operations.\n",
      "To enable the following instructions: AVX2 FMA, in other operations, rebuild TensorFlow with the appropriate compiler flags.\n",
      "2024-09-03 17:49:33.349170: W tensorflow/compiler/tf2tensorrt/utils/py_utils.cc:38] TF-TRT Warning: Could not find TensorRT\n"
     ]
    }
   ],
   "source": [
    "from dataclasses import dataclass\n",
    "\n",
    "import networkx as nx \n",
    "import torch\n",
    "from torch_geometric.nn import RGCNConv\n",
    "from torch_geometric.utils import to_networkx\n",
    "\n",
    "from custom_modules import DataGenerator, PersonnelScheduleEnv, RLagent, ActorMemoryWrapper, Actor"
   ]
  },
  {
   "cell_type": "code",
   "execution_count": 2,
   "id": "0234124b-bd9c-42d5-bb39-75f18b26df11",
   "metadata": {},
   "outputs": [],
   "source": [
    "@dataclass\n",
    "class EvaluationConfig:\n",
    "    output_dir = \"RL_PersSched\" \n",
    "    max_steps = 8\n",
    "    device = torch.device(\"cuda\" if torch.cuda.is_available() else \"cpu\")\n",
    "    hidden_dim = 5\n",
    "    num_message_passing = 3\n",
    "\n",
    "config = EvaluationConfig()"
   ]
  },
  {
   "cell_type": "code",
   "execution_count": null,
   "id": "288943b5-88ec-4098-84e2-1529bbd8d886",
   "metadata": {},
   "outputs": [],
   "source": [
    "dim_employee = 1\n",
    "dim_shift = 7\n",
    "gnn = GNN((dim_employee, dim_shift), hidden_dim=config.hidden_dim, num_message_layer=config.num_message_layer, device=config.device)\n",
    "gnn.loader(config.output_dir)"
   ]
  },
  {
   "cell_type": "code",
   "execution_count": 4,
   "id": "6682af90-57ec-4bf2-a18d-0a382688203d",
   "metadata": {},
   "outputs": [],
   "source": [
    "env = PersonnelScheduleEnv(employees=DataGenerator.get_random_employees(5,5), shifts=DataGenerator.get_week_shifts(), assignments=DataGenerator.get_empty_assignments(), device=config.device)\n",
    "agent = RLagent(gnn) \n",
    "actor = Actor(agent, env=env, max_steps=config.max_steps)"
   ]
  },
  {
   "cell_type": "code",
   "execution_count": 5,
   "id": "e978ff62-bf3a-4490-b447-0948cc732a92",
   "metadata": {},
   "outputs": [
    {
     "name": "stdout",
     "output_type": "stream",
     "text": [
      "prob:  tensor([0.0473, 0.0523, 0.0477, 0.0527, 0.0473, 0.0523, 0.0477, 0.0527, 0.0473,\n",
      "        0.0523, 0.0477, 0.0527, 0.0473, 0.0523, 0.0477, 0.0527, 0.0473, 0.0523,\n",
      "        0.0477, 0.0527], grad_fn=<SoftmaxBackward0>)\n",
      "action:  14\n",
      "action edge:  tensor([[3],\n",
      "        [2]])\n",
      "current planning:  {0: [], 1: [], 2: [3], 3: []}\n",
      "prob:  tensor([0.0537, 0.0593, 0.0450, 0.0599, 0.0537, 0.0593, 0.0450, 0.0599, 0.0537,\n",
      "        0.0593, 0.0450, 0.0599, 0.0462, 0.0471, 0.0072, 0.0282, 0.0537, 0.0593,\n",
      "        0.0450, 0.0599], grad_fn=<SoftmaxBackward0>)\n",
      "action:  9\n",
      "action edge:  tensor([[2],\n",
      "        [1]])\n",
      "current planning:  {0: [], 1: [2], 2: [3], 3: []}\n",
      "prob:  tensor([0.0559, 0.0368, 0.0468, 0.0623, 0.0559, 0.0368, 0.0468, 0.0623, 0.0545,\n",
      "        0.1037, 0.0334, 0.0707, 0.0481, 0.0474, 0.0074, 0.0293, 0.0559, 0.0368,\n",
      "        0.0468, 0.0623], grad_fn=<SoftmaxBackward0>)\n",
      "action:  3\n",
      "action edge:  tensor([[0],\n",
      "        [3]])\n",
      "current planning:  {0: [], 1: [2], 2: [3], 3: [0]}\n",
      "prob:  tensor([0.0574, 0.0714, 0.0125, 0.0123, 0.0649, 0.0428, 0.0544, 0.0583, 0.0632,\n",
      "        0.1205, 0.0388, 0.0564, 0.0559, 0.0550, 0.0086, 0.0074, 0.0649, 0.0428,\n",
      "        0.0544, 0.0583], grad_fn=<SoftmaxBackward0>)\n",
      "action:  12\n",
      "action edge:  tensor([[3],\n",
      "        [0]])\n",
      "current planning:  {0: [3], 1: [2], 2: [3], 3: [0]}\n",
      "prob:  tensor([0.0367, 0.0731, 0.0260, 0.0126, 0.0475, 0.0438, 0.0479, 0.0597, 0.0552,\n",
      "        0.1234, 0.0611, 0.0577, 0.0382, 0.0732, 0.0286, 0.0163, 0.0475, 0.0438,\n",
      "        0.0479, 0.0597], grad_fn=<SoftmaxBackward0>)\n",
      "action:  17\n",
      "action edge:  tensor([[4],\n",
      "        [1]])\n",
      "current planning:  {0: [3], 1: [2, 4], 2: [3], 3: [0]}\n",
      "prob:  tensor([0.0334, 0.0666, 0.0236, 0.0114, 0.0432, 0.0399, 0.0436, 0.0544, 0.0502,\n",
      "        0.1123, 0.0556, 0.0526, 0.0348, 0.0667, 0.0260, 0.0149, 0.0502, 0.1123,\n",
      "        0.0556, 0.0526], grad_fn=<SoftmaxBackward0>)\n",
      "action:  17\n",
      "current planning:  {0: [3], 1: [2, 4], 2: [3], 3: [0]}\n",
      "prob:  tensor([0.0334, 0.0666, 0.0236, 0.0114, 0.0432, 0.0399, 0.0436, 0.0544, 0.0502,\n",
      "        0.1123, 0.0556, 0.0526, 0.0348, 0.0667, 0.0260, 0.0149, 0.0502, 0.1123,\n",
      "        0.0556, 0.0526], grad_fn=<SoftmaxBackward0>)\n",
      "action:  7\n",
      "action edge:  tensor([[1],\n",
      "        [3]])\n",
      "current planning:  {0: [3], 1: [2, 4], 2: [3], 3: [0, 1]}\n",
      "prob:  tensor([0.0350, 0.0698, 0.0248, 0.0120, 0.0350, 0.0698, 0.0248, 0.0120, 0.0527,\n",
      "        0.1178, 0.0583, 0.0551, 0.0365, 0.0699, 0.0273, 0.0156, 0.0527, 0.1178,\n",
      "        0.0583, 0.0551], grad_fn=<SoftmaxBackward0>)\n",
      "action:  17\n",
      "current planning:  {0: [3], 1: [2, 4], 2: [3], 3: [0, 1]}\n"
     ]
    }
   ],
   "source": [
    "steps = actor.execute_episode()"
   ]
  },
  {
   "cell_type": "code",
   "execution_count": 6,
   "id": "0c82eb5d-61b4-4d88-88b3-50ed9054ddb0",
   "metadata": {},
   "outputs": [
    {
     "name": "stdout",
     "output_type": "stream",
     "text": [
      "Is terminated:  False\n",
      "Planning: \n"
     ]
    },
    {
     "data": {
      "text/plain": [
       "{0: [3], 1: [2, 4], 2: [3], 3: [0, 1]}"
      ]
     },
     "execution_count": 6,
     "metadata": {},
     "output_type": "execute_result"
    }
   ],
   "source": [
    "print(\"Is terminated: \", env.terminated())\n",
    "print(\"Planning: \")\n",
    "env.get_current_planning()"
   ]
  },
  {
   "cell_type": "code",
   "execution_count": 7,
   "id": "5c58653a-f954-4ff7-9bb3-e81a3a8d95c4",
   "metadata": {},
   "outputs": [
    {
     "data": {
      "image/png": "[encoded data removed]",
      "text/plain": [
       "<Figure size 640x480 with 1 Axes>"
      ]
     },
     "metadata": {},
     "output_type": "display_data"
    }
   ],
   "source": [
    "g=to_networkx(env.state)\n",
    "nx.draw(g)"
   ]
  }
 ],
 "metadata": {
  "kernelspec": {
   "display_name": "Python 3 (ipykernel)",
   "language": "python",
   "name": "python3"
  },
  "language_info": {
   "codemirror_mode": {
    "name": "ipython",
    "version": 3
   },
   "file_extension": ".py",
   "mimetype": "text/x-python",
   "name": "python",
   "nbconvert_exporter": "python",
   "pygments_lexer": "ipython3",
   "version": "3.11.6"
  }
 },
 "nbformat": 4,
 "nbformat_minor": 5
}
