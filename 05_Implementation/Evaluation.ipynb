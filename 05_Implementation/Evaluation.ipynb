{
 "cells": [
  {
   "cell_type": "code",
   "execution_count": 1,
   "id": "84611287-fc73-41fc-80de-819c28102b61",
   "metadata": {},
   "outputs": [
    {
     "name": "stderr",
     "output_type": "stream",
     "text": [
      "2024-09-09 11:23:29.177224: I tensorflow/tsl/cuda/cudart_stub.cc:28] Could not find cuda drivers on your machine, GPU will not be used.\n",
      "2024-09-09 11:23:30.236762: E tensorflow/compiler/xla/stream_executor/cuda/cuda_dnn.cc:9342] Unable to register cuDNN factory: Attempting to register factory for plugin cuDNN when one has already been registered\n",
      "2024-09-09 11:23:30.236879: E tensorflow/compiler/xla/stream_executor/cuda/cuda_fft.cc:609] Unable to register cuFFT factory: Attempting to register factory for plugin cuFFT when one has already been registered\n",
      "2024-09-09 11:23:30.240584: E tensorflow/compiler/xla/stream_executor/cuda/cuda_blas.cc:1518] Unable to register cuBLAS factory: Attempting to register factory for plugin cuBLAS when one has already been registered\n",
      "2024-09-09 11:23:30.937731: I tensorflow/tsl/cuda/cudart_stub.cc:28] Could not find cuda drivers on your machine, GPU will not be used.\n",
      "2024-09-09 11:23:30.948729: I tensorflow/core/platform/cpu_feature_guard.cc:182] This TensorFlow binary is optimized to use available CPU instructions in performance-critical operations.\n",
      "To enable the following instructions: AVX2 FMA, in other operations, rebuild TensorFlow with the appropriate compiler flags.\n",
      "2024-09-09 11:23:35.050272: W tensorflow/compiler/tf2tensorrt/utils/py_utils.cc:38] TF-TRT Warning: Could not find TensorRT\n"
     ]
    }
   ],
   "source": [
    "from dataclasses import dataclass\n",
    "\n",
    "import networkx as nx \n",
    "import torch\n",
    "from torch_geometric.nn import RGCNConv\n",
    "from torch_geometric.utils import to_networkx\n",
    "\n",
    "from custom_modules import DataGenerator, PersonnelScheduleEnv, RLagent, ActorMemoryWrapper, Actor, GNN"
   ]
  },
  {
   "cell_type": "code",
   "execution_count": 2,
   "id": "0234124b-bd9c-42d5-bb39-75f18b26df11",
   "metadata": {},
   "outputs": [],
   "source": [
    "@dataclass\n",
    "class EvaluationConfig:\n",
    "    output_dir = \"RL_PersSched\" \n",
    "    max_steps = 8\n",
    "    device = torch.device(\"cuda\" if torch.cuda.is_available() else \"cpu\")\n",
    "    hidden_dim = 32\n",
    "    num_message_layer = 2\n",
    "\n",
    "config = EvaluationConfig()"
   ]
  },
  {
   "cell_type": "code",
   "execution_count": 3,
   "id": "288943b5-88ec-4098-84e2-1529bbd8d886",
   "metadata": {},
   "outputs": [],
   "source": [
    "dim_employee = 1\n",
    "dim_shift = 7\n",
    "gnn = GNN((dim_employee, dim_shift), hidden_dim=config.hidden_dim, num_message_layer=config.num_message_layer, device=config.device)\n",
    "gnn.load(config.output_dir + \"/gnn_weights\")"
   ]
  },
  {
   "cell_type": "code",
   "execution_count": 4,
   "id": "6682af90-57ec-4bf2-a18d-0a382688203d",
   "metadata": {},
   "outputs": [],
   "source": [
    "env = PersonnelScheduleEnv(employees=DataGenerator.get_random_employees(5,5), shifts=DataGenerator.get_week_shifts(), assignments=DataGenerator.get_empty_assignments(), device=config.device)\n",
    "agent = RLagent(gnn) \n",
    "actor = Actor(agent, env=env, max_steps=config.max_steps)"
   ]
  },
  {
   "cell_type": "code",
   "execution_count": 5,
   "id": "e978ff62-bf3a-4490-b447-0948cc732a92",
   "metadata": {},
   "outputs": [
    {
     "name": "stdout",
     "output_type": "stream",
     "text": [
      "prob:  tensor([1.9576e-09, 1.9999e-01, 1.4126e-13, 1.4430e-05, 1.9576e-09, 1.9999e-01,\n",
      "        1.4126e-13, 1.4430e-05, 1.9576e-09, 1.9999e-01, 1.4126e-13, 1.4430e-05,\n",
      "        1.9576e-09, 1.9999e-01, 1.4126e-13, 1.4430e-05, 1.9576e-09, 1.9999e-01,\n",
      "        1.4126e-13, 1.4430e-05], grad_fn=<SoftmaxBackward0>)\n",
      "action:  17\n",
      "prob:  tensor([3.3911e-05, 8.1651e-11, 2.4469e-09, 2.4997e-01, 3.3911e-05, 8.1651e-11,\n",
      "        2.4469e-09, 2.4997e-01, 3.3911e-05, 8.1651e-11, 2.4469e-09, 2.4997e-01,\n",
      "        3.3911e-05, 8.1651e-11, 2.4469e-09, 2.4997e-01, 5.6824e-10, 2.8026e-45,\n",
      "        4.0533e-14, 8.3731e-12], grad_fn=<SoftmaxBackward0>)\n",
      "action:  3\n",
      "prob:  tensor([7.0556e-06, 0.0000e+00, 1.2877e-10, 1.4013e-45, 3.3330e-01, 8.0253e-07,\n",
      "        2.4050e-05, 7.8641e-07, 3.3330e-01, 8.0253e-07, 2.4050e-05, 7.8641e-07,\n",
      "        3.3330e-01, 8.0253e-07, 2.4050e-05, 7.8641e-07, 5.5852e-06, 3.4727e-41,\n",
      "        3.9839e-10, 2.7528e-32], grad_fn=<SoftmaxBackward0>)\n",
      "action:  12\n",
      "prob:  tensor([3.3683e-34, 0.0000e+00, 2.4571e-11, 0.0000e+00, 1.3903e-15, 1.5314e-07,\n",
      "        4.5892e-06, 1.5006e-07, 1.3903e-15, 1.5314e-07, 4.5892e-06, 1.5006e-07,\n",
      "        2.8815e-32, 0.0000e+00, 9.9999e-01, 2.4607e-42, 4.4915e-21, 6.6267e-42,\n",
      "        7.6019e-11, 5.2528e-33], grad_fn=<SoftmaxBackward0>)\n",
      "action:  14\n",
      "prob:  tensor([1.3982e-21, 0.0000e+00, 2.5517e-26, 3.5205e-40, 2.6719e-07, 2.5254e-01,\n",
      "        1.9280e-11, 2.4746e-01, 2.6719e-07, 2.5254e-01, 1.9280e-11, 2.4746e-01,\n",
      "        1.4120e-27, 0.0000e+00, 2.1643e-29, 8.1836e-43, 2.4692e-08, 1.0928e-35,\n",
      "        1.7613e-12, 8.6623e-27], grad_fn=<SoftmaxBackward0>)\n",
      "action:  11\n",
      "prob:  tensor([2.7964e-21, 0.0000e+00, 5.1035e-26, 7.0410e-40, 5.3438e-07, 5.0507e-01,\n",
      "        3.8559e-11, 4.9493e-01, 2.7964e-21, 0.0000e+00, 5.1035e-26, 7.0410e-40,\n",
      "        2.8240e-27, 0.0000e+00, 4.3287e-29, 1.6367e-42, 4.9384e-08, 2.1856e-35,\n",
      "        3.5225e-12, 1.7325e-26], grad_fn=<SoftmaxBackward0>)\n",
      "action:  5\n",
      "prob:  tensor([2.8311e-14, 6.1645e-41, 5.1668e-19, 7.1284e-33, 4.9996e-01, 2.2127e-28,\n",
      "        3.5662e-05, 1.7540e-19, 2.8311e-14, 6.1645e-41, 5.1668e-19, 7.1284e-33,\n",
      "        2.8590e-20, 9.1084e-44, 4.3824e-22, 1.6567e-35, 4.9996e-01, 2.2127e-28,\n",
      "        3.5662e-05, 1.7540e-19], grad_fn=<SoftmaxBackward0>)\n",
      "action:  4\n",
      "prob:  tensor([9.9456e-19, 8.6960e-31, 1.4488e-14, 1.9988e-28, 4.9179e-11, 3.0261e-23,\n",
      "        1.0104e-05, 1.0646e-19, 9.9456e-19, 8.6960e-31, 1.4488e-14, 1.9988e-28,\n",
      "        5.4239e-23, 1.1550e-34, 1.2288e-17, 4.6455e-31, 1.2552e-05, 3.7953e-18,\n",
      "        9.9998e-01, 4.9181e-15], grad_fn=<SoftmaxBackward0>)\n",
      "action:  18\n"
     ]
    }
   ],
   "source": [
    "steps = actor.execute_episode()"
   ]
  },
  {
   "cell_type": "code",
   "execution_count": 6,
   "id": "0c82eb5d-61b4-4d88-88b3-50ed9054ddb0",
   "metadata": {},
   "outputs": [
    {
     "name": "stdout",
     "output_type": "stream",
     "text": [
      "Is terminated:  True\n",
      "Planning: \n"
     ]
    },
    {
     "data": {
      "text/plain": [
       "{0: [3, 1], 1: [4, 1], 2: [3, 4], 3: [0, 2]}"
      ]
     },
     "execution_count": 6,
     "metadata": {},
     "output_type": "execute_result"
    }
   ],
   "source": [
    "print(\"Is terminated: \", env.terminated())\n",
    "print(\"Planning: \")\n",
    "env.get_current_planning()"
   ]
  },
  {
   "cell_type": "code",
   "execution_count": 7,
   "id": "5c58653a-f954-4ff7-9bb3-e81a3a8d95c4",
   "metadata": {},
   "outputs": [
    {
     "data": {
      "image/png": "[encoded data removed]",
      "text/plain": [
       "<Figure size 640x480 with 1 Axes>"
      ]
     },
     "metadata": {},
     "output_type": "display_data"
    }
   ],
   "source": [
    "g=to_networkx(env.state)\n",
    "nx.draw(g)"
   ]
  }
 ],
 "metadata": {
  "kernelspec": {
   "display_name": "Python 3 (ipykernel)",
   "language": "python",
   "name": "python3"
  },
  "language_info": {
   "codemirror_mode": {
    "name": "ipython",
    "version": 3
   },
   "file_extension": ".py",
   "mimetype": "text/x-python",
   "name": "python",
   "nbconvert_exporter": "python",
   "pygments_lexer": "ipython3",
   "version": "3.11.6"
  }
 },
 "nbformat": 4,
 "nbformat_minor": 5
}
